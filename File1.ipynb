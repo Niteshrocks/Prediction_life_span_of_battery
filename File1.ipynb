{
 "cells": [
  {
   "cell_type": "code",
   "execution_count": 11,
   "metadata": {},
   "outputs": [],
   "source": [
    "import pandas as pd\n",
    "\n",
    "df = pd.read_csv('dataset_4', header = None)"
   ]
  },
  {
   "cell_type": "code",
   "execution_count": 12,
   "metadata": {},
   "outputs": [],
   "source": [
    "df.drop(columns = [15,16,17], inplace = True)"
   ]
  },
  {
   "cell_type": "code",
   "execution_count": 13,
   "metadata": {},
   "outputs": [],
   "source": [
    "df.columns = ['IMEI Number','Phone Model','Android versoin','Battery technology',\n",
    "             'Battery capacity','Timestamp','Screen status','Battery percentage',\n",
    "             'App running','CPU usage','Battery operating temprature','Battery voltage',\n",
    "             'Battery current','Network connected','Plugged IN']"
   ]
  },
  {
   "cell_type": "code",
   "execution_count": 14,
   "metadata": {
    "scrolled": true
   },
   "outputs": [
    {
     "data": {
      "text/html": [
       "<div>\n",
       "<style scoped>\n",
       "    .dataframe tbody tr th:only-of-type {\n",
       "        vertical-align: middle;\n",
       "    }\n",
       "\n",
       "    .dataframe tbody tr th {\n",
       "        vertical-align: top;\n",
       "    }\n",
       "\n",
       "    .dataframe thead th {\n",
       "        text-align: right;\n",
       "    }\n",
       "</style>\n",
       "<table border=\"1\" class=\"dataframe\">\n",
       "  <thead>\n",
       "    <tr style=\"text-align: right;\">\n",
       "      <th></th>\n",
       "      <th>IMEI Number</th>\n",
       "      <th>Phone Model</th>\n",
       "      <th>Android versoin</th>\n",
       "      <th>Battery technology</th>\n",
       "      <th>Battery capacity</th>\n",
       "      <th>Timestamp</th>\n",
       "      <th>Screen status</th>\n",
       "      <th>Battery percentage</th>\n",
       "      <th>App running</th>\n",
       "      <th>CPU usage</th>\n",
       "      <th>Battery operating temprature</th>\n",
       "      <th>Battery voltage</th>\n",
       "      <th>Battery current</th>\n",
       "      <th>Network connected</th>\n",
       "      <th>Plugged IN</th>\n",
       "    </tr>\n",
       "  </thead>\n",
       "  <tbody>\n",
       "    <tr>\n",
       "      <td>0</td>\n",
       "      <td>866558034754119</td>\n",
       "      <td>OPPO CPH1723</td>\n",
       "      <td>7.1.1</td>\n",
       "      <td>Li-ion</td>\n",
       "      <td>3200.0</td>\n",
       "      <td>1570598925694</td>\n",
       "      <td>False</td>\n",
       "      <td>36</td>\n",
       "      <td>com.zopper.batteryage</td>\n",
       "      <td>25</td>\n",
       "      <td>27.0</td>\n",
       "      <td>3774</td>\n",
       "      <td>139</td>\n",
       "      <td>wi-fi</td>\n",
       "      <td>False</td>\n",
       "    </tr>\n",
       "    <tr>\n",
       "      <td>1</td>\n",
       "      <td>866558034754119</td>\n",
       "      <td>OPPO CPH1723</td>\n",
       "      <td>7.1.1</td>\n",
       "      <td>Li-ion</td>\n",
       "      <td>3200.0</td>\n",
       "      <td>1570598948811</td>\n",
       "      <td>False</td>\n",
       "      <td>36</td>\n",
       "      <td>com.zopper.batteryage</td>\n",
       "      <td>25</td>\n",
       "      <td>27.0</td>\n",
       "      <td>3774</td>\n",
       "      <td>159</td>\n",
       "      <td>wi-fi</td>\n",
       "      <td>False</td>\n",
       "    </tr>\n",
       "    <tr>\n",
       "      <td>2</td>\n",
       "      <td>866558034754119</td>\n",
       "      <td>OPPO CPH1723</td>\n",
       "      <td>7.1.1</td>\n",
       "      <td>Li-ion</td>\n",
       "      <td>3200.0</td>\n",
       "      <td>1570598970088</td>\n",
       "      <td>False</td>\n",
       "      <td>36</td>\n",
       "      <td>com.zopper.batteryage</td>\n",
       "      <td>37</td>\n",
       "      <td>27.0</td>\n",
       "      <td>3774</td>\n",
       "      <td>214</td>\n",
       "      <td>wi-fi</td>\n",
       "      <td>False</td>\n",
       "    </tr>\n",
       "    <tr>\n",
       "      <td>3</td>\n",
       "      <td>866558034754119</td>\n",
       "      <td>OPPO CPH1723</td>\n",
       "      <td>7.1.1</td>\n",
       "      <td>Li-ion</td>\n",
       "      <td>3200.0</td>\n",
       "      <td>1570598972329</td>\n",
       "      <td>False</td>\n",
       "      <td>36</td>\n",
       "      <td>com.zopper.batteryage</td>\n",
       "      <td>42</td>\n",
       "      <td>27.0</td>\n",
       "      <td>3774</td>\n",
       "      <td>88</td>\n",
       "      <td>wi-fi</td>\n",
       "      <td>False</td>\n",
       "    </tr>\n",
       "    <tr>\n",
       "      <td>4</td>\n",
       "      <td>866558034754119</td>\n",
       "      <td>OPPO CPH1723</td>\n",
       "      <td>7.1.1</td>\n",
       "      <td>Li-ion</td>\n",
       "      <td>3200.0</td>\n",
       "      <td>1570598974581</td>\n",
       "      <td>False</td>\n",
       "      <td>36</td>\n",
       "      <td>com.zopper.batteryage</td>\n",
       "      <td>12</td>\n",
       "      <td>27.0</td>\n",
       "      <td>3774</td>\n",
       "      <td>14</td>\n",
       "      <td>wi-fi</td>\n",
       "      <td>False</td>\n",
       "    </tr>\n",
       "  </tbody>\n",
       "</table>\n",
       "</div>"
      ],
      "text/plain": [
       "       IMEI Number   Phone Model Android versoin Battery technology  \\\n",
       "0  866558034754119  OPPO CPH1723           7.1.1             Li-ion   \n",
       "1  866558034754119  OPPO CPH1723           7.1.1             Li-ion   \n",
       "2  866558034754119  OPPO CPH1723           7.1.1             Li-ion   \n",
       "3  866558034754119  OPPO CPH1723           7.1.1             Li-ion   \n",
       "4  866558034754119  OPPO CPH1723           7.1.1             Li-ion   \n",
       "\n",
       "   Battery capacity      Timestamp  Screen status  Battery percentage  \\\n",
       "0            3200.0  1570598925694          False                  36   \n",
       "1            3200.0  1570598948811          False                  36   \n",
       "2            3200.0  1570598970088          False                  36   \n",
       "3            3200.0  1570598972329          False                  36   \n",
       "4            3200.0  1570598974581          False                  36   \n",
       "\n",
       "             App running  CPU usage  Battery operating temprature  \\\n",
       "0  com.zopper.batteryage         25                          27.0   \n",
       "1  com.zopper.batteryage         25                          27.0   \n",
       "2  com.zopper.batteryage         37                          27.0   \n",
       "3  com.zopper.batteryage         42                          27.0   \n",
       "4  com.zopper.batteryage         12                          27.0   \n",
       "\n",
       "   Battery voltage  Battery current Network connected  Plugged IN  \n",
       "0             3774              139             wi-fi       False  \n",
       "1             3774              159             wi-fi       False  \n",
       "2             3774              214             wi-fi       False  \n",
       "3             3774               88             wi-fi       False  \n",
       "4             3774               14             wi-fi       False  "
      ]
     },
     "execution_count": 14,
     "metadata": {},
     "output_type": "execute_result"
    }
   ],
   "source": [
    "df.head()"
   ]
  },
  {
   "cell_type": "code",
   "execution_count": 15,
   "metadata": {},
   "outputs": [
    {
     "data": {
      "text/html": [
       "<div>\n",
       "<style scoped>\n",
       "    .dataframe tbody tr th:only-of-type {\n",
       "        vertical-align: middle;\n",
       "    }\n",
       "\n",
       "    .dataframe tbody tr th {\n",
       "        vertical-align: top;\n",
       "    }\n",
       "\n",
       "    .dataframe thead th {\n",
       "        text-align: right;\n",
       "    }\n",
       "</style>\n",
       "<table border=\"1\" class=\"dataframe\">\n",
       "  <thead>\n",
       "    <tr style=\"text-align: right;\">\n",
       "      <th></th>\n",
       "      <th>IMEI Number</th>\n",
       "      <th>Phone Model</th>\n",
       "      <th>Android versoin</th>\n",
       "      <th>Battery technology</th>\n",
       "      <th>Battery capacity</th>\n",
       "      <th>Timestamp</th>\n",
       "      <th>Screen status</th>\n",
       "      <th>Battery percentage</th>\n",
       "      <th>App running</th>\n",
       "      <th>CPU usage</th>\n",
       "      <th>Battery operating temprature</th>\n",
       "      <th>Battery voltage</th>\n",
       "      <th>Battery current</th>\n",
       "      <th>Network connected</th>\n",
       "      <th>Plugged IN</th>\n",
       "    </tr>\n",
       "  </thead>\n",
       "  <tbody>\n",
       "    <tr>\n",
       "      <td>85525</td>\n",
       "      <td>866558034754119</td>\n",
       "      <td>OPPO CPH1723</td>\n",
       "      <td>7.1.1</td>\n",
       "      <td>Li-ion</td>\n",
       "      <td>3200.0</td>\n",
       "      <td>1571418801240</td>\n",
       "      <td>False</td>\n",
       "      <td>88</td>\n",
       "      <td>com.zopper.batteryage</td>\n",
       "      <td>18</td>\n",
       "      <td>34.0</td>\n",
       "      <td>4111</td>\n",
       "      <td>9</td>\n",
       "      <td>wi-fi</td>\n",
       "      <td>False</td>\n",
       "    </tr>\n",
       "    <tr>\n",
       "      <td>85526</td>\n",
       "      <td>866558034754119</td>\n",
       "      <td>OPPO CPH1723</td>\n",
       "      <td>7.1.1</td>\n",
       "      <td>Li-ion</td>\n",
       "      <td>3200.0</td>\n",
       "      <td>1571418822534</td>\n",
       "      <td>False</td>\n",
       "      <td>88</td>\n",
       "      <td>com.zopper.batteryage</td>\n",
       "      <td>9</td>\n",
       "      <td>34.0</td>\n",
       "      <td>4111</td>\n",
       "      <td>46</td>\n",
       "      <td>wi-fi</td>\n",
       "      <td>False</td>\n",
       "    </tr>\n",
       "    <tr>\n",
       "      <td>85527</td>\n",
       "      <td>866558034754119</td>\n",
       "      <td>OPPO CPH1723</td>\n",
       "      <td>7.1.1</td>\n",
       "      <td>Li-ion</td>\n",
       "      <td>3200.0</td>\n",
       "      <td>1571418803607</td>\n",
       "      <td>False</td>\n",
       "      <td>88</td>\n",
       "      <td>com.zopper.batteryage</td>\n",
       "      <td>25</td>\n",
       "      <td>34.0</td>\n",
       "      <td>4111</td>\n",
       "      <td>38</td>\n",
       "      <td>wi-fi</td>\n",
       "      <td>False</td>\n",
       "    </tr>\n",
       "    <tr>\n",
       "      <td>85528</td>\n",
       "      <td>866558034754119</td>\n",
       "      <td>OPPO CPH1723</td>\n",
       "      <td>7.1.1</td>\n",
       "      <td>Li-ion</td>\n",
       "      <td>3200.0</td>\n",
       "      <td>1571418862093</td>\n",
       "      <td>False</td>\n",
       "      <td>88</td>\n",
       "      <td>com.zopper.batteryage</td>\n",
       "      <td>40</td>\n",
       "      <td>34.0</td>\n",
       "      <td>4111</td>\n",
       "      <td>293</td>\n",
       "      <td>wi-fi</td>\n",
       "      <td>False</td>\n",
       "    </tr>\n",
       "    <tr>\n",
       "      <td>85529</td>\n",
       "      <td>866558034754119</td>\n",
       "      <td>OPPO CPH1723</td>\n",
       "      <td>7.1.1</td>\n",
       "      <td>Li-ion</td>\n",
       "      <td>3200.0</td>\n",
       "      <td>1571418920103</td>\n",
       "      <td>False</td>\n",
       "      <td>88</td>\n",
       "      <td>com.zopper.batteryage</td>\n",
       "      <td>18</td>\n",
       "      <td>34.0</td>\n",
       "      <td>4111</td>\n",
       "      <td>288</td>\n",
       "      <td>wi-fi</td>\n",
       "      <td>False</td>\n",
       "    </tr>\n",
       "  </tbody>\n",
       "</table>\n",
       "</div>"
      ],
      "text/plain": [
       "           IMEI Number   Phone Model Android versoin Battery technology  \\\n",
       "85525  866558034754119  OPPO CPH1723           7.1.1             Li-ion   \n",
       "85526  866558034754119  OPPO CPH1723           7.1.1             Li-ion   \n",
       "85527  866558034754119  OPPO CPH1723           7.1.1             Li-ion   \n",
       "85528  866558034754119  OPPO CPH1723           7.1.1             Li-ion   \n",
       "85529  866558034754119  OPPO CPH1723           7.1.1             Li-ion   \n",
       "\n",
       "       Battery capacity      Timestamp  Screen status  Battery percentage  \\\n",
       "85525            3200.0  1571418801240          False                  88   \n",
       "85526            3200.0  1571418822534          False                  88   \n",
       "85527            3200.0  1571418803607          False                  88   \n",
       "85528            3200.0  1571418862093          False                  88   \n",
       "85529            3200.0  1571418920103          False                  88   \n",
       "\n",
       "                 App running  CPU usage  Battery operating temprature  \\\n",
       "85525  com.zopper.batteryage         18                          34.0   \n",
       "85526  com.zopper.batteryage          9                          34.0   \n",
       "85527  com.zopper.batteryage         25                          34.0   \n",
       "85528  com.zopper.batteryage         40                          34.0   \n",
       "85529  com.zopper.batteryage         18                          34.0   \n",
       "\n",
       "       Battery voltage  Battery current Network connected  Plugged IN  \n",
       "85525             4111                9             wi-fi       False  \n",
       "85526             4111               46             wi-fi       False  \n",
       "85527             4111               38             wi-fi       False  \n",
       "85528             4111              293             wi-fi       False  \n",
       "85529             4111              288             wi-fi       False  "
      ]
     },
     "execution_count": 15,
     "metadata": {},
     "output_type": "execute_result"
    }
   ],
   "source": [
    "df.tail()"
   ]
  },
  {
   "cell_type": "code",
   "execution_count": 19,
   "metadata": {},
   "outputs": [
    {
     "data": {
      "text/plain": [
       "(85530, 14)"
      ]
     },
     "execution_count": 19,
     "metadata": {},
     "output_type": "execute_result"
    }
   ],
   "source": [
    "df.shape"
   ]
  },
  {
   "cell_type": "code",
   "execution_count": 16,
   "metadata": {},
   "outputs": [],
   "source": [
    "df['Timestamp']=pd.to_datetime(df['Timestamp'],unit='ms')"
   ]
  },
  {
   "cell_type": "code",
   "execution_count": 17,
   "metadata": {},
   "outputs": [],
   "source": [
    "df.index = df['Timestamp']"
   ]
  },
  {
   "cell_type": "code",
   "execution_count": 18,
   "metadata": {},
   "outputs": [],
   "source": [
    "df.drop(columns='Timestamp',inplace=True)"
   ]
  },
  {
   "cell_type": "code",
   "execution_count": 21,
   "metadata": {},
   "outputs": [
    {
     "data": {
      "text/plain": [
       "Timestamp\n",
       "2019-10-09 05:28:45.694     524586\n",
       "2019-10-09 05:29:08.811     600066\n",
       "2019-10-09 05:29:30.088     807636\n",
       "2019-10-09 05:29:32.329     332112\n",
       "2019-10-09 05:29:34.581      52836\n",
       "                            ...   \n",
       "2019-10-18 17:13:21.240      36999\n",
       "2019-10-18 17:13:42.534     189106\n",
       "2019-10-18 17:13:23.607     156218\n",
       "2019-10-18 17:14:22.093    1204523\n",
       "2019-10-18 17:15:20.103    1183968\n",
       "Length: 85530, dtype: int64"
      ]
     },
     "execution_count": 21,
     "metadata": {},
     "output_type": "execute_result"
    }
   ],
   "source": [
    "df[\"Battery voltage\"]*df[\"Battery current\"]"
   ]
  },
  {
   "cell_type": "code",
   "execution_count": 23,
   "metadata": {},
   "outputs": [
    {
     "name": "stdout",
     "output_type": "stream",
     "text": [
      "Total cycle ( 291 ) :  3\n"
     ]
    }
   ],
   "source": [
    "# TOTAL CYCLES\n",
    "\n",
    "l1 = list(df[\"Battery percentage\"])\n",
    "l2 = list(df[\"Plugged IN\"])\n",
    "\n",
    "cycles = 0\n",
    "flag = True\n",
    "\n",
    "b1 = 0\n",
    "b2 = 0\n",
    "ctr=0\n",
    "cycle=0\n",
    "\n",
    "for i in range(len(l1)):\n",
    "    if l2[i] != flag:\n",
    "        if flag == True:\n",
    "            flag = False\n",
    "            b1=i           # first element\n",
    "        else:\n",
    "            flag = True\n",
    "            b2=i           # second element\n",
    "        if(b2>b1):\n",
    "            #cal cycle\n",
    "            #print(b1 , \"   \" , b2)\n",
    "            ctr+=l1[b1]-l1[b2]\n",
    "            b1=b2\n",
    "            #print(\"ctr = \",ctr)\n",
    "    if(i==len(l1)-1):\n",
    "        if flag == False:\n",
    "            b2=i\n",
    "        if(b2>b1):\n",
    "            #print(b1 , \"   \" , b2)\n",
    "            ctr+=l1[b1]-l1[b2]\n",
    "            #print(\"ctr = \",ctr)\n",
    "\n",
    "print(\"Total cycle (\",ctr,\") : \", round(ctr/100))\n",
    "\n",
    "#some cycles are null, as in True to False and False to True isn't changing."
   ]
  },
  {
   "cell_type": "code",
   "execution_count": 21,
   "metadata": {
    "scrolled": false
   },
   "outputs": [
    {
     "name": "stdout",
     "output_type": "stream",
     "text": [
      "Battery charged =  85 % in ( 0 days 00:00:00.183776 ) mins\n",
      "Battery charged =  61 % in ( 0 days 00:00:00.098372 ) mins\n",
      "Battery charged =  6 % in ( 0 days 00:00:00.027186 ) mins\n",
      "Battery charged =  29 % in ( 0 days 00:00:00.058250 ) mins\n",
      "Battery charged =  41 % in ( 0 days 00:00:00.106149 ) mins\n",
      "Battery charged =  1 % in ( 0 days 00:00:00.004514 ) mins\n",
      "Battery charged =  19 % in ( 0 days 00:00:00.080183 ) mins\n",
      "Battery charged =  25 % in ( 0 days 00:00:00.046214 ) mins\n",
      "Battery charged =  3 % in ( 0 days 00:00:00.007582 ) mins\n",
      "Battery charged =  32 % in ( 0 days 00:00:00.063729 ) mins\n",
      "Total charge ( 302 ) :  3\n"
     ]
    }
   ],
   "source": [
    "# BATTERY CHARGING TIME\n",
    "\n",
    "l1 = list(df[7])\n",
    "l2 = list(df[14])\n",
    "l5 = list(df[5])\n",
    "\n",
    "cycles = 0\n",
    "flag = False\n",
    "\n",
    "b1 = 0\n",
    "b2 = 0\n",
    "ctr=temp=0\n",
    "cycle=0\n",
    "\n",
    "for i in range(len(l1)):\n",
    "    if l2[i] != flag:\n",
    "        if flag == True:\n",
    "            flag = False\n",
    "            b2=i        \n",
    "        else:\n",
    "            flag = True\n",
    "            b1=i           \n",
    "        if(b2>b1):\n",
    "            #cal cycle\n",
    "            ctr+=l1[b2]-l1[b1]\n",
    "            if(ctr>temp):\n",
    "                #print(b1 , \"   \" , b2)\n",
    "                print(\"Battery charged = \",ctr-temp , \"% in (\", ((l5[b2]-l5[b1])/60000) ,\") mins\")\n",
    "                temp=ctr\n",
    "            b1=b2\n",
    "    if(i==len(l1)-1):\n",
    "        if flag == True:\n",
    "            b1=i\n",
    "        if(b2>b1):\n",
    "            ctr+=l1[b2]-l1[b1]\n",
    "            if(ctr>temp):\n",
    "                #print(b1 , \"   \" , b2)\n",
    "                print(\"ctr = \",ctr)\n",
    "                temp=ctr\n",
    "\n",
    "print(\"Total charge (\",ctr,\") : \", int(ctr/100))\n"
   ]
  },
  {
   "cell_type": "code",
   "execution_count": 22,
   "metadata": {},
   "outputs": [
    {
     "name": "stdout",
     "output_type": "stream",
     "text": [
      "3047.7525\n",
      "2695.488611111111\n"
     ]
    }
   ],
   "source": [
    "# BATTERY DISCHARGING TIME, battery charging per hour\n",
    "\n",
    "l7 = list(df[7])\n",
    "l14 = list(df[14])\n",
    "l12 = list(df[12])\n",
    "\n",
    "v = 0\n",
    "curr = 0\n",
    "currList = []\n",
    "\n",
    "for i in range(len(l7) - 1):\n",
    "        if l14[i] == False:\n",
    "            v += l7[i] - l7[i+1]\n",
    "            curr += l12[i]\n",
    "            \n",
    "            if v == 100:\n",
    "                currList.append(curr)\n",
    "                curr = 0\n",
    "                v = 0\n",
    "\n",
    "for i in range(len(currList)):\n",
    "    print(currList[i]/3600)"
   ]
  },
  {
   "cell_type": "code",
   "execution_count": 44,
   "metadata": {},
   "outputs": [
    {
     "name": "stdout",
     "output_type": "stream",
     "text": [
      "3441.601388888889\n",
      "3232.9669444444444\n",
      "3232.2433333333333\n"
     ]
    }
   ],
   "source": [
    "# BATTERY CHARGING TIME\n",
    "\n",
    "l7 = list(df[7])\n",
    "l14 = list(df[14])\n",
    "l12 = list(df[12])\n",
    "\n",
    "v = 0\n",
    "curr = 0\n",
    "currList = []\n",
    "\n",
    "\n",
    "for i in range(len(l7)):\n",
    "        if l14[i] == True:\n",
    "            v += l7[i] - l7[i-1]\n",
    "            curr += l12[i]\n",
    "            \n",
    "            if v == 100:\n",
    "                currList.append(curr)\n",
    "                curr = 0\n",
    "                v = 0\n",
    "                \n",
    "\n",
    "for i in range(len(currList)):\n",
    "    print((currList[i]/3600))"
   ]
  },
  {
   "cell_type": "code",
   "execution_count": 46,
   "metadata": {},
   "outputs": [
    {
     "data": {
      "text/plain": [
       "209.35805555555544"
      ]
     },
     "execution_count": 46,
     "metadata": {},
     "output_type": "execute_result"
    }
   ],
   "source": [
    "currList[0]/3600 - currList[-1]/3600"
   ]
  },
  {
   "cell_type": "code",
   "execution_count": 47,
   "metadata": {},
   "outputs": [],
   "source": [
    "decay = (currList[0]/3600-currList[-1]/3600)/10"
   ]
  },
  {
   "cell_type": "code",
   "execution_count": null,
   "metadata": {},
   "outputs": [],
   "source": [
    "days =  10\n",
    "threshold = df[4][0]\n",
    "for i in range(3441,5000,50):\n",
    "    if i > threshold :\n",
    "        decay"
   ]
  },
  {
   "cell_type": "code",
   "execution_count": null,
   "metadata": {},
   "outputs": [],
   "source": []
  },
  {
   "cell_type": "code",
   "execution_count": null,
   "metadata": {},
   "outputs": [],
   "source": []
  }
 ],
 "metadata": {
  "kernelspec": {
   "display_name": "Python 3",
   "language": "python",
   "name": "python3"
  },
  "language_info": {
   "codemirror_mode": {
    "name": "ipython",
    "version": 3
   },
   "file_extension": ".py",
   "mimetype": "text/x-python",
   "name": "python",
   "nbconvert_exporter": "python",
   "pygments_lexer": "ipython3",
   "version": "3.6.8"
  }
 },
 "nbformat": 4,
 "nbformat_minor": 2
}
